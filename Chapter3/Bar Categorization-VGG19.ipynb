{
 "cells": [
  {
   "cell_type": "markdown",
   "metadata": {},
   "source": [
    "# Local Image Classification Training - Bars\n",
    "\n",
    "Classifies the bars to extract the bits they represent."
   ]
  },
  {
   "cell_type": "code",
   "execution_count": 1,
   "metadata": {},
   "outputs": [],
   "source": [
    "BARS_FOLDER = \"../bars/\"\n",
    "TRAIN_FOLDER = \"../bars/train/\"\n",
    "TEST_FOLDER = \"../bars/test/\"\n",
    "AUGMENT_FOLDER = \"../bars/augmented/\"\n",
    "PARTITION_SCRIPT = \"../tensorflow/scripts/preprocessing/partition_dataset.py\""
   ]
  },
  {
   "cell_type": "code",
   "execution_count": 2,
   "metadata": {},
   "outputs": [],
   "source": [
    "import pandas as pd\n",
    "from os import listdir\n",
    "from os.path import isfile, join\n",
    "import os"
   ]
  },
  {
   "cell_type": "code",
   "execution_count": 3,
   "metadata": {},
   "outputs": [],
   "source": [
    "train_paths = [TRAIN_FOLDER + f for f in listdir(TRAIN_FOLDER) if isfile(join(TRAIN_FOLDER, f))]\n",
    "test_paths = [TEST_FOLDER + f for f in listdir(TEST_FOLDER) if isfile(join(TEST_FOLDER, f))]"
   ]
  },
  {
   "cell_type": "markdown",
   "metadata": {},
   "source": [
    "## Create a DataFrame with Paths and Labels"
   ]
  },
  {
   "cell_type": "code",
   "execution_count": 4,
   "metadata": {},
   "outputs": [
    {
     "name": "stdout",
     "output_type": "stream",
     "text": [
      "(1780, 4)\n"
     ]
    },
    {
     "data": {
      "text/html": [
       "<div>\n",
       "<style scoped>\n",
       "    .dataframe tbody tr th:only-of-type {\n",
       "        vertical-align: middle;\n",
       "    }\n",
       "\n",
       "    .dataframe tbody tr th {\n",
       "        vertical-align: top;\n",
       "    }\n",
       "\n",
       "    .dataframe thead th {\n",
       "        text-align: right;\n",
       "    }\n",
       "</style>\n",
       "<table border=\"1\" class=\"dataframe\">\n",
       "  <thead>\n",
       "    <tr style=\"text-align: right;\">\n",
       "      <th></th>\n",
       "      <th>path</th>\n",
       "      <th>dec</th>\n",
       "      <th>bin</th>\n",
       "      <th>class</th>\n",
       "    </tr>\n",
       "  </thead>\n",
       "  <tbody>\n",
       "    <tr>\n",
       "      <th>0</th>\n",
       "      <td>../bars/train/1000082_v_300079.png</td>\n",
       "      <td>1000082</td>\n",
       "      <td>0b11110100001010010010</td>\n",
       "      <td>[19, 18, 17, 16, 14, 9, 7, 4, 1]</td>\n",
       "    </tr>\n",
       "    <tr>\n",
       "      <th>1</th>\n",
       "      <td>../bars/train/1000160_h_1016272.png</td>\n",
       "      <td>1000160</td>\n",
       "      <td>0b11110100001011100000</td>\n",
       "      <td>[19, 18, 17, 16, 14, 9, 7, 6, 5]</td>\n",
       "    </tr>\n",
       "    <tr>\n",
       "      <th>2</th>\n",
       "      <td>../bars/train/1000183_hv_915487.png</td>\n",
       "      <td>1000183</td>\n",
       "      <td>0b11110100001011110111</td>\n",
       "      <td>[19, 18, 17, 16, 14, 9, 7, 6, 5, 4, 2, 1, 0]</td>\n",
       "    </tr>\n",
       "    <tr>\n",
       "      <th>3</th>\n",
       "      <td>../bars/train/1000235_v_871471.png</td>\n",
       "      <td>1000235</td>\n",
       "      <td>0b11110100001100101011</td>\n",
       "      <td>[19, 18, 17, 16, 14, 9, 8, 5, 3, 1, 0]</td>\n",
       "    </tr>\n",
       "    <tr>\n",
       "      <th>4</th>\n",
       "      <td>../bars/train/1002732_hv_242463.png</td>\n",
       "      <td>1002732</td>\n",
       "      <td>0b11110100110011101100</td>\n",
       "      <td>[19, 18, 17, 16, 14, 11, 10, 7, 6, 5, 3, 2]</td>\n",
       "    </tr>\n",
       "  </tbody>\n",
       "</table>\n",
       "</div>"
      ],
      "text/plain": [
       "                                  path      dec                     bin  \\\n",
       "0   ../bars/train/1000082_v_300079.png  1000082  0b11110100001010010010   \n",
       "1  ../bars/train/1000160_h_1016272.png  1000160  0b11110100001011100000   \n",
       "2  ../bars/train/1000183_hv_915487.png  1000183  0b11110100001011110111   \n",
       "3   ../bars/train/1000235_v_871471.png  1000235  0b11110100001100101011   \n",
       "4  ../bars/train/1002732_hv_242463.png  1002732  0b11110100110011101100   \n",
       "\n",
       "                                          class  \n",
       "0              [19, 18, 17, 16, 14, 9, 7, 4, 1]  \n",
       "1              [19, 18, 17, 16, 14, 9, 7, 6, 5]  \n",
       "2  [19, 18, 17, 16, 14, 9, 7, 6, 5, 4, 2, 1, 0]  \n",
       "3        [19, 18, 17, 16, 14, 9, 8, 5, 3, 1, 0]  \n",
       "4   [19, 18, 17, 16, 14, 11, 10, 7, 6, 5, 3, 2]  "
      ]
     },
     "execution_count": 4,
     "metadata": {},
     "output_type": "execute_result"
    }
   ],
   "source": [
    "train_df = pd.DataFrame({'path': train_paths})\n",
    "train_df[\"dec\"] = train_df.apply(lambda x: int(x['path'].split(\"/\")[-1].split(\"_\")[0]), axis=1)\n",
    "train_df[\"bin\"] = train_df.apply(lambda x: bin(x['dec']), axis=1)\n",
    "train_df[\"class\"] = train_df.apply(lambda x: [i for i in reversed(range(20)) if (x['dec'] & 1 << i) != 0], axis=1)\n",
    "    \n",
    "print(train_df.shape)\n",
    "train_df.head()"
   ]
  },
  {
   "cell_type": "code",
   "execution_count": 5,
   "metadata": {},
   "outputs": [
    {
     "name": "stdout",
     "output_type": "stream",
     "text": [
      "(200, 4)\n"
     ]
    },
    {
     "data": {
      "text/html": [
       "<div>\n",
       "<style scoped>\n",
       "    .dataframe tbody tr th:only-of-type {\n",
       "        vertical-align: middle;\n",
       "    }\n",
       "\n",
       "    .dataframe tbody tr th {\n",
       "        vertical-align: top;\n",
       "    }\n",
       "\n",
       "    .dataframe thead th {\n",
       "        text-align: right;\n",
       "    }\n",
       "</style>\n",
       "<table border=\"1\" class=\"dataframe\">\n",
       "  <thead>\n",
       "    <tr style=\"text-align: right;\">\n",
       "      <th></th>\n",
       "      <th>path</th>\n",
       "      <th>dec</th>\n",
       "      <th>bin</th>\n",
       "      <th>class</th>\n",
       "    </tr>\n",
       "  </thead>\n",
       "  <tbody>\n",
       "    <tr>\n",
       "      <th>0</th>\n",
       "      <td>../bars/test/1000767_h_1018431.png</td>\n",
       "      <td>1000767</td>\n",
       "      <td>0b11110100010100111111</td>\n",
       "      <td>[19, 18, 17, 16, 14, 10, 8, 5, 4, 3, 2, 1, 0]</td>\n",
       "    </tr>\n",
       "    <tr>\n",
       "      <th>1</th>\n",
       "      <td>../bars/test/1001347_v_794159.png</td>\n",
       "      <td>1001347</td>\n",
       "      <td>0b11110100011110000011</td>\n",
       "      <td>[19, 18, 17, 16, 14, 10, 9, 8, 7, 1, 0]</td>\n",
       "    </tr>\n",
       "    <tr>\n",
       "      <th>2</th>\n",
       "      <td>../bars/test/1002872_1.png</td>\n",
       "      <td>1002872</td>\n",
       "      <td>0b11110100110101111000</td>\n",
       "      <td>[19, 18, 17, 16, 14, 11, 10, 8, 6, 5, 4, 3]</td>\n",
       "    </tr>\n",
       "    <tr>\n",
       "      <th>3</th>\n",
       "      <td>../bars/test/1004288_h_1024768.png</td>\n",
       "      <td>1004288</td>\n",
       "      <td>0b11110101001100000000</td>\n",
       "      <td>[19, 18, 17, 16, 14, 12, 9, 8]</td>\n",
       "    </tr>\n",
       "    <tr>\n",
       "      <th>4</th>\n",
       "      <td>../bars/test/1007758_h_1019981.png</td>\n",
       "      <td>1007758</td>\n",
       "      <td>0b11110110000010001110</td>\n",
       "      <td>[19, 18, 17, 16, 14, 13, 7, 3, 2, 1]</td>\n",
       "    </tr>\n",
       "  </tbody>\n",
       "</table>\n",
       "</div>"
      ],
      "text/plain": [
       "                                 path      dec                     bin  \\\n",
       "0  ../bars/test/1000767_h_1018431.png  1000767  0b11110100010100111111   \n",
       "1   ../bars/test/1001347_v_794159.png  1001347  0b11110100011110000011   \n",
       "2          ../bars/test/1002872_1.png  1002872  0b11110100110101111000   \n",
       "3  ../bars/test/1004288_h_1024768.png  1004288  0b11110101001100000000   \n",
       "4  ../bars/test/1007758_h_1019981.png  1007758  0b11110110000010001110   \n",
       "\n",
       "                                           class  \n",
       "0  [19, 18, 17, 16, 14, 10, 8, 5, 4, 3, 2, 1, 0]  \n",
       "1        [19, 18, 17, 16, 14, 10, 9, 8, 7, 1, 0]  \n",
       "2    [19, 18, 17, 16, 14, 11, 10, 8, 6, 5, 4, 3]  \n",
       "3                 [19, 18, 17, 16, 14, 12, 9, 8]  \n",
       "4           [19, 18, 17, 16, 14, 13, 7, 3, 2, 1]  "
      ]
     },
     "execution_count": 5,
     "metadata": {},
     "output_type": "execute_result"
    }
   ],
   "source": [
    "test_df = pd.DataFrame({'path': test_paths})\n",
    "test_df[\"dec\"] = test_df.apply(lambda x: int(x['path'].split(\"/\")[-1].split(\"_\")[0]), axis=1)\n",
    "test_df[\"bin\"] = test_df.apply(lambda x: bin(x['dec']), axis=1)\n",
    "test_df[\"class\"] = test_df.apply(lambda x: [i for i in reversed(range(20)) if (x['dec'] & 1 << i) != 0], axis=1)\n",
    "    \n",
    "print(test_df.shape)\n",
    "test_df.head()"
   ]
  },
  {
   "cell_type": "markdown",
   "metadata": {},
   "source": [
    "## Define the Image Generators"
   ]
  },
  {
   "cell_type": "code",
   "execution_count": 6,
   "metadata": {},
   "outputs": [],
   "source": [
    "from tensorflow.keras.preprocessing.image import ImageDataGenerator"
   ]
  },
  {
   "cell_type": "code",
   "execution_count": 7,
   "metadata": {},
   "outputs": [],
   "source": [
    "train_datagen = ImageDataGenerator(\n",
    "      rotation_range = 4,\n",
    "      zoom_range = 0.02,\n",
    "      brightness_range=[0.15,0.85],\n",
    "      channel_shift_range=0.2,\n",
    "      shear_range = 0.2,\n",
    "      horizontal_flip = False,\n",
    "      vertical_flip = False,\n",
    "      fill_mode = 'nearest')"
   ]
  },
  {
   "cell_type": "code",
   "execution_count": 8,
   "metadata": {},
   "outputs": [],
   "source": [
    "target_size = (450, 100)"
   ]
  },
  {
   "cell_type": "code",
   "execution_count": 9,
   "metadata": {},
   "outputs": [
    {
     "name": "stdout",
     "output_type": "stream",
     "text": [
      "Found 1780 validated image filenames belonging to 20 classes.\n"
     ]
    }
   ],
   "source": [
    "train_generator = train_datagen.flow_from_dataframe(\n",
    "    dataframe = train_df,\n",
    "    directory = \".\",\n",
    "    target_size = target_size,\n",
    "    batch_size = 64,\n",
    "    x_col = 'path',\n",
    "    y_col = 'class',\n",
    "    class_mode = 'categorical')\n",
    "#   save_to_dir = '../augmented_bars/'"
   ]
  },
  {
   "cell_type": "code",
   "execution_count": 10,
   "metadata": {},
   "outputs": [
    {
     "name": "stdout",
     "output_type": "stream",
     "text": [
      "Found 200 validated image filenames belonging to 20 classes.\n"
     ]
    }
   ],
   "source": [
    "test_datagen = ImageDataGenerator()\n",
    "test_generator = test_datagen.flow_from_dataframe(\n",
    "    dataframe = test_df,\n",
    "    directory = \".\",\n",
    "    target_size = target_size,\n",
    "    shuffle = False,\n",
    "    x_col = 'path',\n",
    "    y_col = 'class',\n",
    "    class_mode = 'categorical')"
   ]
  },
  {
   "cell_type": "markdown",
   "metadata": {},
   "source": [
    "## Define the Model\n",
    "\n",
    "### Load model for transfer learning"
   ]
  },
  {
   "cell_type": "code",
   "execution_count": 11,
   "metadata": {},
   "outputs": [],
   "source": [
    "from tensorflow.keras.applications import VGG19\n",
    "\n",
    "model = VGG19(include_top=False, input_shape=(450,100,3))\n",
    "model.trainable = False"
   ]
  },
  {
   "cell_type": "code",
   "execution_count": 12,
   "metadata": {
    "scrolled": true
   },
   "outputs": [
    {
     "name": "stdout",
     "output_type": "stream",
     "text": [
      "Model: \"vgg19\"\n",
      "_________________________________________________________________\n",
      "Layer (type)                 Output Shape              Param #   \n",
      "=================================================================\n",
      "input_1 (InputLayer)         [(None, 450, 100, 3)]     0         \n",
      "_________________________________________________________________\n",
      "block1_conv1 (Conv2D)        (None, 450, 100, 64)      1792      \n",
      "_________________________________________________________________\n",
      "block1_conv2 (Conv2D)        (None, 450, 100, 64)      36928     \n",
      "_________________________________________________________________\n",
      "block1_pool (MaxPooling2D)   (None, 225, 50, 64)       0         \n",
      "_________________________________________________________________\n",
      "block2_conv1 (Conv2D)        (None, 225, 50, 128)      73856     \n",
      "_________________________________________________________________\n",
      "block2_conv2 (Conv2D)        (None, 225, 50, 128)      147584    \n",
      "_________________________________________________________________\n",
      "block2_pool (MaxPooling2D)   (None, 112, 25, 128)      0         \n",
      "_________________________________________________________________\n",
      "block3_conv1 (Conv2D)        (None, 112, 25, 256)      295168    \n",
      "_________________________________________________________________\n",
      "block3_conv2 (Conv2D)        (None, 112, 25, 256)      590080    \n",
      "_________________________________________________________________\n",
      "block3_conv3 (Conv2D)        (None, 112, 25, 256)      590080    \n",
      "_________________________________________________________________\n",
      "block3_conv4 (Conv2D)        (None, 112, 25, 256)      590080    \n",
      "_________________________________________________________________\n",
      "block3_pool (MaxPooling2D)   (None, 56, 12, 256)       0         \n",
      "_________________________________________________________________\n",
      "block4_conv1 (Conv2D)        (None, 56, 12, 512)       1180160   \n",
      "_________________________________________________________________\n",
      "block4_conv2 (Conv2D)        (None, 56, 12, 512)       2359808   \n",
      "_________________________________________________________________\n",
      "block4_conv3 (Conv2D)        (None, 56, 12, 512)       2359808   \n",
      "_________________________________________________________________\n",
      "block4_conv4 (Conv2D)        (None, 56, 12, 512)       2359808   \n",
      "_________________________________________________________________\n",
      "block4_pool (MaxPooling2D)   (None, 28, 6, 512)        0         \n",
      "_________________________________________________________________\n",
      "block5_conv1 (Conv2D)        (None, 28, 6, 512)        2359808   \n",
      "_________________________________________________________________\n",
      "block5_conv2 (Conv2D)        (None, 28, 6, 512)        2359808   \n",
      "_________________________________________________________________\n",
      "block5_conv3 (Conv2D)        (None, 28, 6, 512)        2359808   \n",
      "_________________________________________________________________\n",
      "block5_conv4 (Conv2D)        (None, 28, 6, 512)        2359808   \n",
      "_________________________________________________________________\n",
      "block5_pool (MaxPooling2D)   (None, 14, 3, 512)        0         \n",
      "=================================================================\n",
      "Total params: 20,024,384\n",
      "Trainable params: 0\n",
      "Non-trainable params: 20,024,384\n",
      "_________________________________________________________________\n"
     ]
    }
   ],
   "source": [
    "model.summary()"
   ]
  },
  {
   "cell_type": "markdown",
   "metadata": {},
   "source": [
    "## Add custom Dense Layers"
   ]
  },
  {
   "cell_type": "code",
   "execution_count": 13,
   "metadata": {},
   "outputs": [],
   "source": [
    "import tensorflow as tf\n",
    "from tensorflow.keras import layers, Model\n",
    "\n",
    "x = model.output\n",
    "\n",
    "# Flatten layer\n",
    "flatten = layers.Flatten()\n",
    "\n",
    "# Create output layer with 20 nodes and sigmoid activation to handle multiple classes and labels\n",
    "bits_pred = layers.Dense(20, activation = 'sigmoid', name='bits_pred')\n",
    "\n",
    "output = bits_pred(flatten(x))\n",
    "\n",
    "# Create an instance of a Model\n",
    "model_final = Model(model.input, output)\n",
    "\n",
    "# compile\n",
    "model_final.compile(loss = 'binary_crossentropy',\n",
    "                    optimizer='adam',\n",
    "                    metrics = [tf.keras.metrics.BinaryAccuracy(threshold=0.5)])"
   ]
  },
  {
   "cell_type": "code",
   "execution_count": 14,
   "metadata": {
    "scrolled": true
   },
   "outputs": [
    {
     "name": "stdout",
     "output_type": "stream",
     "text": [
      "Model: \"functional_1\"\n",
      "_________________________________________________________________\n",
      "Layer (type)                 Output Shape              Param #   \n",
      "=================================================================\n",
      "input_1 (InputLayer)         [(None, 450, 100, 3)]     0         \n",
      "_________________________________________________________________\n",
      "block1_conv1 (Conv2D)        (None, 450, 100, 64)      1792      \n",
      "_________________________________________________________________\n",
      "block1_conv2 (Conv2D)        (None, 450, 100, 64)      36928     \n",
      "_________________________________________________________________\n",
      "block1_pool (MaxPooling2D)   (None, 225, 50, 64)       0         \n",
      "_________________________________________________________________\n",
      "block2_conv1 (Conv2D)        (None, 225, 50, 128)      73856     \n",
      "_________________________________________________________________\n",
      "block2_conv2 (Conv2D)        (None, 225, 50, 128)      147584    \n",
      "_________________________________________________________________\n",
      "block2_pool (MaxPooling2D)   (None, 112, 25, 128)      0         \n",
      "_________________________________________________________________\n",
      "block3_conv1 (Conv2D)        (None, 112, 25, 256)      295168    \n",
      "_________________________________________________________________\n",
      "block3_conv2 (Conv2D)        (None, 112, 25, 256)      590080    \n",
      "_________________________________________________________________\n",
      "block3_conv3 (Conv2D)        (None, 112, 25, 256)      590080    \n",
      "_________________________________________________________________\n",
      "block3_conv4 (Conv2D)        (None, 112, 25, 256)      590080    \n",
      "_________________________________________________________________\n",
      "block3_pool (MaxPooling2D)   (None, 56, 12, 256)       0         \n",
      "_________________________________________________________________\n",
      "block4_conv1 (Conv2D)        (None, 56, 12, 512)       1180160   \n",
      "_________________________________________________________________\n",
      "block4_conv2 (Conv2D)        (None, 56, 12, 512)       2359808   \n",
      "_________________________________________________________________\n",
      "block4_conv3 (Conv2D)        (None, 56, 12, 512)       2359808   \n",
      "_________________________________________________________________\n",
      "block4_conv4 (Conv2D)        (None, 56, 12, 512)       2359808   \n",
      "_________________________________________________________________\n",
      "block4_pool (MaxPooling2D)   (None, 28, 6, 512)        0         \n",
      "_________________________________________________________________\n",
      "block5_conv1 (Conv2D)        (None, 28, 6, 512)        2359808   \n",
      "_________________________________________________________________\n",
      "block5_conv2 (Conv2D)        (None, 28, 6, 512)        2359808   \n",
      "_________________________________________________________________\n",
      "block5_conv3 (Conv2D)        (None, 28, 6, 512)        2359808   \n",
      "_________________________________________________________________\n",
      "block5_conv4 (Conv2D)        (None, 28, 6, 512)        2359808   \n",
      "_________________________________________________________________\n",
      "block5_pool (MaxPooling2D)   (None, 14, 3, 512)        0         \n",
      "_________________________________________________________________\n",
      "flatten (Flatten)            (None, 21504)             0         \n",
      "_________________________________________________________________\n",
      "bits_pred (Dense)            (None, 20)                430100    \n",
      "=================================================================\n",
      "Total params: 20,454,484\n",
      "Trainable params: 430,100\n",
      "Non-trainable params: 20,024,384\n",
      "_________________________________________________________________\n"
     ]
    }
   ],
   "source": [
    "model_final.summary()"
   ]
  },
  {
   "cell_type": "markdown",
   "metadata": {},
   "source": [
    "## Define early stopping\n",
    "\n",
    "I want the model to stop, only when the model started overfitting"
   ]
  },
  {
   "cell_type": "code",
   "execution_count": 15,
   "metadata": {},
   "outputs": [],
   "source": [
    "from tensorflow.keras.callbacks import EarlyStopping\n",
    "\n",
    "early_stopping = EarlyStopping(monitor='val_loss', \n",
    "                               min_delta = 0, \n",
    "                               patience = 5, \n",
    "                               verbose = 1,\n",
    "                               mode ='min', \n",
    "                               restore_best_weights = True)"
   ]
  },
  {
   "cell_type": "markdown",
   "metadata": {},
   "source": [
    "## Train the model"
   ]
  },
  {
   "cell_type": "code",
   "execution_count": 16,
   "metadata": {
    "scrolled": false
   },
   "outputs": [
    {
     "name": "stdout",
     "output_type": "stream",
     "text": [
      "Epoch 1/9999\n",
      "28/28 - 46s - loss: 1.7241 - binary_accuracy: 0.6221 - val_loss: 1.5338 - val_binary_accuracy: 0.7185\n",
      "Epoch 2/9999\n",
      "28/28 - 46s - loss: 0.5786 - binary_accuracy: 0.8143 - val_loss: 1.1726 - val_binary_accuracy: 0.7783\n",
      "Epoch 3/9999\n",
      "28/28 - 46s - loss: 0.3641 - binary_accuracy: 0.8763 - val_loss: 1.0556 - val_binary_accuracy: 0.7945\n",
      "Epoch 4/9999\n",
      "28/28 - 46s - loss: 0.2648 - binary_accuracy: 0.9076 - val_loss: 0.9381 - val_binary_accuracy: 0.8195\n",
      "Epoch 5/9999\n",
      "28/28 - 46s - loss: 0.1860 - binary_accuracy: 0.9349 - val_loss: 0.8064 - val_binary_accuracy: 0.8425\n",
      "Epoch 6/9999\n",
      "28/28 - 46s - loss: 0.1541 - binary_accuracy: 0.9470 - val_loss: 0.8115 - val_binary_accuracy: 0.8485\n",
      "Epoch 7/9999\n",
      "28/28 - 46s - loss: 0.1371 - binary_accuracy: 0.9534 - val_loss: 0.8250 - val_binary_accuracy: 0.8497\n",
      "Epoch 8/9999\n",
      "28/28 - 46s - loss: 0.1180 - binary_accuracy: 0.9612 - val_loss: 0.7933 - val_binary_accuracy: 0.8517\n",
      "Epoch 9/9999\n",
      "28/28 - 46s - loss: 0.1020 - binary_accuracy: 0.9663 - val_loss: 0.7685 - val_binary_accuracy: 0.8555\n",
      "Epoch 10/9999\n",
      "28/28 - 46s - loss: 0.0931 - binary_accuracy: 0.9685 - val_loss: 0.8336 - val_binary_accuracy: 0.8525\n",
      "Epoch 11/9999\n",
      "28/28 - 46s - loss: 0.0808 - binary_accuracy: 0.9743 - val_loss: 0.8427 - val_binary_accuracy: 0.8590\n",
      "Epoch 12/9999\n",
      "28/28 - 46s - loss: 0.0748 - binary_accuracy: 0.9762 - val_loss: 0.8505 - val_binary_accuracy: 0.8600\n",
      "Epoch 13/9999\n",
      "28/28 - 45s - loss: 0.0660 - binary_accuracy: 0.9800 - val_loss: 0.8128 - val_binary_accuracy: 0.8625\n",
      "Epoch 14/9999\n",
      "Restoring model weights from the end of the best epoch.\n",
      "28/28 - 46s - loss: 0.0576 - binary_accuracy: 0.9835 - val_loss: 0.8002 - val_binary_accuracy: 0.8675\n",
      "Epoch 00014: early stopping\n"
     ]
    }
   ],
   "source": [
    "callbacks = [early_stopping]\n",
    "history = model_final.fit(\n",
    "      train_generator,\n",
    "      steps_per_epoch = 28,  \n",
    "      epochs = 9999, # We only want the training to stop after the early stopping condition is met\n",
    "      validation_data = test_generator,\n",
    "      verbose = 2, \n",
    "      callbacks = callbacks)"
   ]
  },
  {
   "cell_type": "markdown",
   "metadata": {},
   "source": [
    "## Evaluate"
   ]
  },
  {
   "cell_type": "code",
   "execution_count": 17,
   "metadata": {},
   "outputs": [],
   "source": [
    "import matplotlib.pyplot as plt\n",
    "\n",
    "def plot_history(history):\n",
    "    f = plt.figure(figsize = (15,6))\n",
    "\n",
    "    ax = f.add_subplot(121)\n",
    "    ax.plot(history.history['binary_accuracy'])\n",
    "    ax.plot(history.history['val_binary_accuracy'])\n",
    "    ax.legend(['training accuracy', 'validation accuracy'], \n",
    "              bbox_to_anchor = (0, 1.02, 1, 0.2), \n",
    "              loc = \"lower left\", \n",
    "              mode = \"expand\",\n",
    "              ncol = 2)\n",
    "\n",
    "    ax2 = f.add_subplot(122)\n",
    "    ax2.plot(history.history['loss'])\n",
    "    ax2.plot(history.history['val_loss'])\n",
    "    ax2.legend(['training loss', 'validation loss'],\n",
    "               bbox_to_anchor = (0, 1.02, 1, 0.2),\n",
    "               loc = \"lower left\",\n",
    "               mode = \"expand\", \n",
    "               ncol = 2)"
   ]
  },
  {
   "cell_type": "code",
   "execution_count": 18,
   "metadata": {},
   "outputs": [
    {
     "data": {
      "image/png": "[encoded data removed]",
      "text/plain": [
       "<Figure size 1080x432 with 2 Axes>"
      ]
     },
     "metadata": {
      "needs_background": "light"
     },
     "output_type": "display_data"
    }
   ],
   "source": [
    "plot_history(history)"
   ]
  },
  {
   "cell_type": "code",
   "execution_count": 19,
   "metadata": {},
   "outputs": [],
   "source": [
    "import numpy as np\n",
    "\n",
    "pred_y = model_final.predict(test_generator)"
   ]
  },
  {
   "cell_type": "code",
   "execution_count": 20,
   "metadata": {},
   "outputs": [
    {
     "data": {
      "text/plain": [
       "array([ True,  True,  True,  True,  True,  True, False, False, False,\n",
       "       False,  True,  True, False, False, False, False,  True,  True,\n",
       "        True,  True])"
      ]
     },
     "execution_count": 20,
     "metadata": {},
     "output_type": "execute_result"
    }
   ],
   "source": [
    "pred_y = pred_y > 0.5\n",
    "pred_y[0]"
   ]
  },
  {
   "cell_type": "code",
   "execution_count": 21,
   "metadata": {},
   "outputs": [
    {
     "data": {
      "text/plain": [
       "[19, 18, 17, 16, 14, 10, 8, 5, 4, 3, 2, 1, 0]"
      ]
     },
     "execution_count": 21,
     "metadata": {},
     "output_type": "execute_result"
    }
   ],
   "source": [
    "true_y = test_df['class']\n",
    "true_y[0]"
   ]
  },
  {
   "cell_type": "code",
   "execution_count": 22,
   "metadata": {
    "scrolled": true
   },
   "outputs": [
    {
     "name": "stdout",
     "output_type": "stream",
     "text": [
      "true positive: [109, 102, 92, 81, 74, 72, 79, 90, 78, 82, 85, 88, 90, 87, 77, 72, 99, 86, 113, 106] \n",
      "true negative: [69, 75, 85, 93, 97, 90, 91, 91, 90, 82, 77, 77, 89, 91, 102, 101, 52, 82, 55, 71] \n",
      "false positive: [14, 8, 12, 4, 14, 21, 12, 12, 9, 17, 22, 22, 14, 12, 9, 10, 45, 15, 28, 12] \n",
      "false negative: [8, 15, 11, 22, 15, 17, 18, 7, 23, 19, 16, 13, 7, 10, 12, 17, 4, 17, 4, 11]\n"
     ]
    }
   ],
   "source": [
    "bt = [0] * 20\n",
    "bf = [0] * 20\n",
    "fp = [0] * 20\n",
    "fn = [0] * 20\n",
    "\n",
    "for t_y, p_y in zip(true_y, pred_y):\n",
    "    p_y = np.where(p_y)[0]\n",
    "    for i in range(20):\n",
    "        if i in t_y and i in p_y:\n",
    "            bt[i] += 1\n",
    "        elif i not in t_y and i not in p_y:\n",
    "            bf[i] += 1\n",
    "        elif i in t_y and i not in p_y:\n",
    "            fn[i] += 1\n",
    "        else:\n",
    "            fp[i] += 1\n",
    "print(\"true positive:\", bt, \"\\ntrue negative:\", bf, \"\\nfalse positive:\", fp, \"\\nfalse negative:\", fn)"
   ]
  },
  {
   "cell_type": "code",
   "execution_count": 23,
   "metadata": {
    "scrolled": true
   },
   "outputs": [
    {
     "name": "stdout",
     "output_type": "stream",
     "text": [
      "7/7 [==============================] - 3s 438ms/step - loss: 0.7685 - binary_accuracy: 0.8555\n"
     ]
    },
    {
     "data": {
      "text/plain": [
       "[0.7684995532035828, 0.8555000424385071]"
      ]
     },
     "execution_count": 23,
     "metadata": {},
     "output_type": "execute_result"
    }
   ],
   "source": [
    "model_final.evaluate(test_generator)"
   ]
  },
  {
   "cell_type": "code",
   "execution_count": 24,
   "metadata": {
    "scrolled": false
   },
   "outputs": [
    {
     "data": {
      "image/png": "[encoded data removed]",
      "text/plain": [
       "<Figure size 504x3600 with 21 Axes>"
      ]
     },
     "metadata": {
      "needs_background": "light"
     },
     "output_type": "display_data"
    }
   ],
   "source": [
    "import seaborn as sns\n",
    "\n",
    "f = plt.figure(figsize = (7,50))\n",
    "sum_ax = f.add_subplot(6, 1, 1)\n",
    "sns.heatmap([[sum(bt), sum(fp)], \n",
    "             [sum(fn), sum(bf)]],\n",
    "            annot = True, \n",
    "            cbar = False,\n",
    "            xticklabels = [\"True\", \"False\"], \n",
    "            yticklabels = [\"True\", \"False\"],\n",
    "            ax = sum_ax,\n",
    "            fmt='d')\n",
    "sum_ax.set_title('All Bits')\n",
    "sum_ax.set_ylabel(\"Predicted\")\n",
    "sum_ax.set_xlabel(\"Actual\")\n",
    "\n",
    "for i in range(20):\n",
    "    ax = f.add_subplot(12, 2, i + 5)\n",
    "    sns.heatmap([[bt[i], fp[i]], \n",
    "                 [fn[i], bf[i]]],\n",
    "                annot = True, \n",
    "                cbar = False,\n",
    "                xticklabels = [\"True\", \"False\"], \n",
    "                yticklabels = [\"True\", \"False\"],\n",
    "                ax = ax,\n",
    "                fmt='d')\n",
    "    ax.set_title('Bit {}'.format(i))\n",
    "    ax.set_ylabel(\"Predicted\")\n",
    "    ax.set_xlabel(\"Actual\")"
   ]
  },
  {
   "cell_type": "markdown",
   "metadata": {},
   "source": [
    "## Save model"
   ]
  },
  {
   "cell_type": "code",
   "execution_count": 25,
   "metadata": {},
   "outputs": [
    {
     "name": "stdout",
     "output_type": "stream",
     "text": [
      "WARNING:tensorflow:From C:\\Users\\Thesis\\AppData\\Roaming\\Python\\Python37\\site-packages\\tensorflow\\python\\training\\tracking\\tracking.py:111: Model.state_updates (from tensorflow.python.keras.engine.training) is deprecated and will be removed in a future version.\n",
      "Instructions for updating:\n",
      "This property should not be used in TensorFlow 2.0, as updates are applied automatically.\n",
      "WARNING:tensorflow:From C:\\Users\\Thesis\\AppData\\Roaming\\Python\\Python37\\site-packages\\tensorflow\\python\\training\\tracking\\tracking.py:111: Layer.updates (from tensorflow.python.keras.engine.base_layer) is deprecated and will be removed in a future version.\n",
      "Instructions for updating:\n",
      "This property should not be used in TensorFlow 2.0, as updates are applied automatically.\n",
      "INFO:tensorflow:Assets written to: bar_cat_model_943\\assets\n"
     ]
    }
   ],
   "source": [
    "model_final.save('bar_cat_model_943')"
   ]
  }
 ],
 "metadata": {
  "kernelspec": {
   "display_name": "Python 3",
   "language": "python",
   "name": "python3"
  },
  "language_info": {
   "codemirror_mode": {
    "name": "ipython",
    "version": 3
   },
   "file_extension": ".py",
   "mimetype": "text/x-python",
   "name": "python",
   "nbconvert_exporter": "python",
   "pygments_lexer": "ipython3",
   "version": "3.8.5"
  }
 },
 "nbformat": 4,
 "nbformat_minor": 4
}
