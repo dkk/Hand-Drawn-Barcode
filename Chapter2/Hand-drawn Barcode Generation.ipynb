{
 "cells": [
  {
   "cell_type": "markdown",
   "metadata": {},
   "source": [
    "This notebook can be used to generate barcodes with a specific value"
   ]
  },
  {
   "cell_type": "code",
   "execution_count": 1,
   "metadata": {},
   "outputs": [],
   "source": [
    "from ipycanvas import Canvas\n",
    "\n",
    "def draw_barcode_template(list_of_blocks, list_of_texts = None):\n",
    "    canvas = Canvas(width=len(list_of_blocks) * 80 + 12, height=300)\n",
    "    canvas.line_width = 2\n",
    "    canvas.font = '20px serif'\n",
    "    canvas.text_align = 'center'\n",
    "\n",
    "    x = 50\n",
    "    y = 150\n",
    "\n",
    "    # long horizontal line with arrrows\n",
    "    canvas.begin_path()\n",
    "    canvas.move_to(10, y)\n",
    "    canvas.line_to(10, y - 10)\n",
    "    canvas.move_to(10, y)\n",
    "    canvas.line_to(len(list_of_blocks) * 80 + 10, y)\n",
    "    canvas.line_to(len(list_of_blocks) * 80 + 10, y - 10)\n",
    "    canvas.stroke()\n",
    "\n",
    "    i = 0\n",
    "    for block in list_of_blocks:\n",
    "        canvas.fill_text(block, x, y - 120)\n",
    "\n",
    "        canvas.begin_path()\n",
    "        # vertical line always exists\n",
    "        canvas.move_to(x, y - 90)\n",
    "        canvas.line_to(x, y + 90)\n",
    "        canvas.stroke()\n",
    "\n",
    "        canvas.begin_path()\n",
    "        \n",
    "        # TOP PART LINES\n",
    "        element = 0           \n",
    "        if block & 1<<element != 0:\n",
    "            # top x, top left line\n",
    "            canvas.move_to(x, y - 90)\n",
    "            canvas.line_to(x - 15, y - 105)\n",
    "                        \n",
    "        element += 1   \n",
    "        if block & 1<<element != 0:\n",
    "            # top x, top right line\n",
    "            canvas.move_to(x, y - 90)\n",
    "            canvas.line_to(x + 15, y - 105)\n",
    "            \n",
    "        element += 1\n",
    "        if block & 1<<element != 0:\n",
    "            # top x, bottom right line\n",
    "            canvas.move_to(x, y - 90)\n",
    "            canvas.line_to(x + 15, y - 75)\n",
    "            \n",
    "        element += 1            \n",
    "        if block & 1<<element != 0:\n",
    "            # top x, bottom left line\n",
    "            canvas.move_to(x, y - 90)\n",
    "            canvas.line_to(x - 15, y - 75)\n",
    "                        \n",
    "        element += 1          \n",
    "        if block & 1<<element != 0:\n",
    "            # middle x, top left line\n",
    "            canvas.move_to(x, y - 45)\n",
    "            canvas.line_to(x - 15, y - 60)\n",
    "            \n",
    "        element += 1          \n",
    "        if block & 1<<element != 0:\n",
    "            # middle x, top right line\n",
    "            canvas.move_to(x, y - 45)\n",
    "            canvas.line_to(x + 15, y - 60)\n",
    "            \n",
    "        element += 1            \n",
    "        if block & 1<<element != 0:\n",
    "            # middle x, bottom right line\n",
    "            canvas.move_to(x, y - 45)\n",
    "            canvas.line_to(x + 15, y - 30)\n",
    "            \n",
    "        element += 1            \n",
    "        if block & 1<<element != 0:\n",
    "            # middle x, bottom left line\n",
    "            canvas.move_to(x, y - 45)\n",
    "            canvas.line_to(x - 15, y - 30)\n",
    "            \n",
    "        element += 1            \n",
    "        if block & 1<<element != 0:\n",
    "            # bottom v, left line\n",
    "            canvas.move_to(x, y)\n",
    "            canvas.line_to(x - 15, y - 15)\n",
    "            \n",
    "        element += 1            \n",
    "        if block & 1<<element != 0:\n",
    "            # bottom v, right line\n",
    "            canvas.move_to(x, y)\n",
    "            canvas.line_to(x + 15, y - 15)\n",
    "                \n",
    "        # BOTTOM PART LINES\n",
    "        element += 1        \n",
    "        if block & 1<<element != 0:\n",
    "            # top ^, right line\n",
    "            canvas.move_to(x, y)\n",
    "            canvas.line_to(x + 15, y + 15)\n",
    "            \n",
    "        element += 1            \n",
    "        if block & 1<<element != 0:\n",
    "            # top ^, left line\n",
    "            canvas.move_to(x, y)\n",
    "            canvas.line_to(x - 15, y + 15)\n",
    "            \n",
    "        element += 1            \n",
    "        if block & 1<<element != 0:\n",
    "            # middle x, top left line\n",
    "            canvas.move_to(x, y + 45)\n",
    "            canvas.line_to(x - 15, y + 30)\n",
    "            \n",
    "        element += 1            \n",
    "        if block & 1<<element != 0:\n",
    "            # middle x, top right line\n",
    "            canvas.move_to(x, y + 45)\n",
    "            canvas.line_to(x + 15, y + 30)\n",
    "            \n",
    "        element += 1            \n",
    "        if block & 1<<element != 0:\n",
    "            # middle x, bottom right line\n",
    "            canvas.move_to(x, y + 45)\n",
    "            canvas.line_to(x + 15, y + 60)\n",
    "            \n",
    "        element += 1            \n",
    "        if block & 1<<element != 0:\n",
    "            # middle x, bottom left line\n",
    "            canvas.move_to(x, y + 45)\n",
    "            canvas.line_to(x - 15, y + 60)\n",
    "            \n",
    "        element += 1            \n",
    "        if block & 1<<element != 0:\n",
    "            # bottom x, top left line\n",
    "            canvas.move_to(x, y + 90)\n",
    "            canvas.line_to(x - 15, y + 75)\n",
    "            \n",
    "        element += 1            \n",
    "        if block & 1<<element != 0:\n",
    "            # bottom x, top right line\n",
    "            canvas.move_to(x, y + 90)\n",
    "            canvas.line_to(x + 15, y + 75)\n",
    "            \n",
    "        element += 1            \n",
    "        if block & 1<<element != 0:\n",
    "            # bottom x, bottom right line\n",
    "            canvas.move_to(x, y + 90)\n",
    "            canvas.line_to(x + 15, y + 105)\n",
    "            \n",
    "        element += 1            \n",
    "        if block & 1<<element != 0:\n",
    "            # bottom x, bottom left line\n",
    "            canvas.move_to(x, y + 90)\n",
    "            canvas.line_to(x - 15, y + 105)\n",
    "            \n",
    "        canvas.stroke()\n",
    "\n",
    "        x += 80\n",
    "        i += 1\n",
    "    \n",
    "    return canvas"
   ]
  },
  {
   "cell_type": "code",
   "execution_count": 2,
   "metadata": {
    "scrolled": true
   },
   "outputs": [
    {
     "data": {
      "application/vnd.jupyter.widget-view+json": {
       "model_id": "2676563d217041508b7a2873086fa8d3",
       "version_major": 2,
       "version_minor": 0
      },
      "text/plain": [
       "Canvas(height=300, width=812)"
      ]
     },
     "metadata": {},
     "output_type": "display_data"
    }
   ],
   "source": [
    "code = [\n",
    "        0b00000_00000_00000_00001,\n",
    "        0b00000_00000_00000_00010,\n",
    "        0b00000_00000_00000_00100,\n",
    "        0b00000_00000_00000_01000,\n",
    "        0b00000_00000_00000_10000,\n",
    "        0b00000_00000_00001_00000,\n",
    "        0b00000_00000_00010_00000,\n",
    "        0b00000_00000_00100_00000,\n",
    "        0b00000_00000_01000_00000, \n",
    "        0b00000_00000_10000_00000,\n",
    "       ]\n",
    "\n",
    "draw_barcode_template(code)"
   ]
  },
  {
   "cell_type": "code",
   "execution_count": 3,
   "metadata": {
    "scrolled": true
   },
   "outputs": [
    {
     "data": {
      "application/vnd.jupyter.widget-view+json": {
       "model_id": "5d1e666554d54150bda3d7c02fa15ffa",
       "version_major": 2,
       "version_minor": 0
      },
      "text/plain": [
       "Canvas(height=300, width=812)"
      ]
     },
     "metadata": {},
     "output_type": "display_data"
    }
   ],
   "source": [
    "code = [\n",
    "        0b00000_00001_00000_00000,\n",
    "        0b00000_00010_00000_00000,\n",
    "        0b00000_00100_00000_00000,\n",
    "        0b00000_01000_00000_00000,\n",
    "        0b00000_10000_00000_00000,\n",
    "        0b00001_00000_00000_00000,\n",
    "        0b00010_00000_00000_00000,\n",
    "        0b00100_00000_00000_00000,\n",
    "        0b01000_00000_00000_00000, \n",
    "        0b10000_00000_00000_00000,\n",
    "       ]\n",
    "\n",
    "draw_barcode_template(code)"
   ]
  },
  {
   "cell_type": "code",
   "execution_count": 4,
   "metadata": {},
   "outputs": [
    {
     "data": {
      "application/vnd.jupyter.widget-view+json": {
       "model_id": "5dab0aeff453475bbe48aaa8ad447699",
       "version_major": 2,
       "version_minor": 0
      },
      "text/plain": [
       "Canvas(height=300, width=332)"
      ]
     },
     "metadata": {},
     "output_type": "display_data"
    }
   ],
   "source": [
    "import random\n",
    "\n",
    "def rdm_bar_numbers():\n",
    "    rn = []\n",
    "    for _ in range(random.randint(1, 6)):\n",
    "        rn.append(random.randint(0, 2 ** 20))\n",
    "    return rn\n",
    "\n",
    "draw_barcode_template(rdm_bar_numbers())"
   ]
  }
 ],
 "metadata": {
  "kernelspec": {
   "display_name": "Python 3",
   "language": "python",
   "name": "python3"
  },
  "language_info": {
   "codemirror_mode": {
    "name": "ipython",
    "version": 3
   },
   "file_extension": ".py",
   "mimetype": "text/x-python",
   "name": "python",
   "nbconvert_exporter": "python",
   "pygments_lexer": "ipython3",
   "version": "3.7.4"
  }
 },
 "nbformat": 4,
 "nbformat_minor": 2
}
